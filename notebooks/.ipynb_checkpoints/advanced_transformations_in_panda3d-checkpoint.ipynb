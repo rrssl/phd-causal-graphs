{
 "cells": [
  {
   "cell_type": "markdown",
   "metadata": {},
   "source": [
    "Panda3D's basic geometric transformations are pretty intuitive, but composing them can be somewhat complicated. Here are some examples."
   ]
  },
  {
   "cell_type": "markdown",
   "metadata": {},
   "source": [
    "# Rotating an object around a point"
   ]
  },
  {
   "cell_type": "code",
   "execution_count": 1,
   "metadata": {},
   "outputs": [
    {
     "name": "stdout",
     "output_type": "stream",
     "text": [
      "Initial world transform of center: T:(pos 0 0 0.5 hpr 15 0 0)\n",
      "\n"
     ]
    }
   ],
   "source": [
    "from panda3d.core import NodePath, Point3, TransformState, Vec3\n",
    "\n",
    "# Let C be the center of a cube of side 1, at position (0, 0, .5),\n",
    "# and rotated by 15 degrees around the Z axis (\"heading\"). \n",
    "c = NodePath(\"\")\n",
    "c_pos = Point3(0, 0, .5)\n",
    "c_hpr = Vec3(15, 0, 0)\n",
    "c.set_pos_hpr(c_pos, c_hpr)\n",
    "print(\"Initial world transform of center: {}\".format(c.get_net_transform()))\n",
    "# Let P be a point in the middle of the bottom edge \"in front\" of the cube.\n",
    "p = Point3(.5, 0, -.5)\n",
    "# We are going to rotate this cube by 45 degrees around its Y axis,\n",
    "# with P as the center of rotation. \n",
    "hpr = Vec3(0, 0, 45)"
   ]
  },
  {
   "cell_type": "markdown",
   "metadata": {},
   "source": [
    "## First version\n",
    "\n",
    "The first version uses the high-level operations of NodePath. There are probably many ways to do it. This version inserts a pivot as the parent of the original node. The pivot's position is computed from the node's original position + the pivot's local position. The pivot's orientation is alogned to the node's original orientation, and then combines it with the additional rotation. The node's position is now local to the pivot. The node's orientation is the identity (because the pivot received the node's original orientation)."
   ]
  },
  {
   "cell_type": "code",
   "execution_count": 2,
   "metadata": {},
   "outputs": [
    {
     "name": "stdout",
     "output_type": "stream",
     "text": [
      "World transform of the pivot: T:(pos 0.482963 0.12941 0 hpr 15 0 0)\n",
      "\n",
      "Final world transform of center: T:q(pos 0.482963 0.12941 0.707107 hpr 15 -1.70755e-06 45)\n",
      "\n"
     ]
    }
   ],
   "source": [
    "def rotate_around(pos: Point3, hpr: Vec3, initial: NodePath):\n",
    "    \"\"\"Rotate in place the NodePath around a 3D point.\n",
    "\n",
    "    Parameters\n",
    "    ----------\n",
    "    pos : Point3\n",
    "        Center of rotation, relative to the NodePath.\n",
    "    hpr : Vec3\n",
    "        HPR components of the rotation, relative to the NodePath's frame.\n",
    "    initial : NodePath\n",
    "        The NodePath to rotate.\n",
    "\n",
    "    \"\"\"\n",
    "    pivot = NodePath(\"pivot\")\n",
    "    # Wrt 'initial', the pivot goes to 'pos', while its frame gets aligned.\n",
    "    # This is equivalent to\n",
    "    # pivot.set_pos(initial, pos); pivot.set_hpr(initial.get_hpr())\n",
    "    pivot.set_pos_hpr(initial, pos, 0)\n",
    "    print(\"World transform of the pivot: {}\".format(pivot.get_net_transform()))\n",
    "    # Attach 'initial' to 'pivot' while keeping exactly the same world coordinates.\n",
    "    initial.wrt_reparent_to(pivot)\n",
    "    # Rotate pivot by 'hpr'. Note how we add it to the existing rotation.\n",
    "    pivot.set_hpr(pivot, hpr)\n",
    "\n",
    "rotate_around(p, hpr, c)\n",
    "# Note how, under these conditions, C is right above P (cx=px, cy=py)\n",
    "# and cy=sqrt(2)/2, while the overall rotation is correct (within accuracy).\n",
    "print(\"Final world transform of center: {}\".format(c.get_net_transform()))"
   ]
  },
  {
   "cell_type": "markdown",
   "metadata": {},
   "source": [
    "## Second version\n",
    "\n",
    "The second version, more efficient, uses the lower level interface of TransformState. Note how the rotation is composed *to the right* of the original transform, indicating a *local transform*. The `compose` function is equivalent to a matrix product (same order of the operands)."
   ]
  },
  {
   "cell_type": "code",
   "execution_count": 3,
   "metadata": {},
   "outputs": [
    {
     "name": "stdout",
     "output_type": "stream",
     "text": [
      "Transform with TransformState operations: T:q(pos 0.482963 0.12941 0.707107 hpr 15 0 45)\n",
      "\n"
     ]
    }
   ],
   "source": [
    "xform = TransformState.make_pos_hpr(c_pos, c_hpr)\n",
    "xform = xform.compose(\n",
    "    TransformState.make_pos(p).compose(\n",
    "    TransformState.make_hpr(hpr)).compose(\n",
    "    TransformState.make_pos(-p))\n",
    ")\n",
    "print(\"Transform with TransformState operations: {}\".format(xform))"
   ]
  },
  {
   "cell_type": "markdown",
   "metadata": {},
   "source": [
    "Let us now check the numerical results."
   ]
  },
  {
   "cell_type": "code",
   "execution_count": 9,
   "metadata": {},
   "outputs": [
    {
     "name": "stdout",
     "output_type": "stream",
     "text": [
      "0.48296291314453416 0.12940952255126037 0.7071067811865476\n"
     ]
    }
   ],
   "source": [
    "import math\n",
    "\n",
    "print(.5*math.cos(math.radians(15)), .5*math.sin(math.radians(15)), .5*math.sqrt(2))"
   ]
  }
 ],
 "metadata": {
  "kernelspec": {
   "display_name": "Python 3 (jupyter)",
   "language": "python",
   "name": "python3"
  },
  "language_info": {
   "codemirror_mode": {
    "name": "ipython",
    "version": 3
   },
   "file_extension": ".py",
   "mimetype": "text/x-python",
   "name": "python",
   "nbconvert_exporter": "python",
   "pygments_lexer": "ipython3",
   "version": "3.5.2"
  }
 },
 "nbformat": 4,
 "nbformat_minor": 2
}
